{
 "cells": [
  {
   "cell_type": "markdown",
   "id": "4a353686-f9bf-4fc1-861d-da65dff0a086",
   "metadata": {},
   "source": [
    "# INTRODUCION"
   ]
  },
  {
   "cell_type": "markdown",
   "id": "693ce02f-9baa-44b1-b0bf-cf91d7f160dc",
   "metadata": {},
   "source": [
    "The goal of this project is to use aircraft safety data analysis to determine which planes are among the most secure options for a company's new aviation business. We can learn more about safety trends by examining a variety of factors, such as the make, model, and associated fatality data of the aircraft. Descriptive statistics and visualisations are used in this technique to find trends in accident data, which helps buyers of aircraft make informed choices. Prioritising safety and risk assessment, our actionable recommendations centre on data standardisation, outlier identification, and correlation analysis among various variables."
   ]
  },
  {
   "cell_type": "markdown",
   "id": "cffc8bf2-98d0-4e1a-a6b1-03c745b55b18",
   "metadata": {},
   "source": [
    "# 1. Business understanding"
   ]
  },
  {
   "cell_type": "markdown",
   "id": "25883de1-3892-4aa8-a1a7-d7b7e4f69b0c",
   "metadata": {},
   "source": [
    "The company is looking to expand into the aviation industry because of the need to diversify the company's portfolio. The aim is to determine which aircraft presents the lowest risk and provide insights for informed purchasing decisions."
   ]
  },
  {
   "cell_type": "code",
   "execution_count": null,
   "id": "dc3e81e4-67b0-40fb-8717-cf07eff8d7ea",
   "metadata": {},
   "outputs": [],
   "source": []
  }
 ],
 "metadata": {
  "kernelspec": {
   "display_name": "Python 3 (ipykernel)",
   "language": "python",
   "name": "python3"
  },
  "language_info": {
   "codemirror_mode": {
    "name": "ipython",
    "version": 3
   },
   "file_extension": ".py",
   "mimetype": "text/x-python",
   "name": "python",
   "nbconvert_exporter": "python",
   "pygments_lexer": "ipython3",
   "version": "3.12.4"
  }
 },
 "nbformat": 4,
 "nbformat_minor": 5
}
